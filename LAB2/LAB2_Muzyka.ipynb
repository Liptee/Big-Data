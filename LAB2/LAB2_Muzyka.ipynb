{
 "cells": [
  {
   "cell_type": "markdown",
   "metadata": {},
   "source": [
    "# Лабораторная работа №2\n",
    "## Задание:\n",
    "**Сформировать отчет с информацией о 10 наиболее популярных языках программирования по итогам года за период с 2010 по 2020 годы.\n",
    "\n",
    "Получившийся отчет сохранить в формате `Apache Parquet`"
   ]
  },
  {
   "cell_type": "code",
   "execution_count": 1,
   "metadata": {},
   "outputs": [],
   "source": [
    "from pyspark.sql import SparkSession\n",
    "\n",
    "import pandas as pd\n",
    "import os"
   ]
  },
  {
   "cell_type": "code",
   "execution_count": 2,
   "metadata": {},
   "outputs": [],
   "source": [
    "os.environ['PYSPARK_SUBMIT_ARGS'] = '--packages com.databricks:spark-xml_2.12:0.14.0 pyspark-shell'"
   ]
  },
  {
   "cell_type": "code",
   "execution_count": 3,
   "metadata": {},
   "outputs": [
    {
     "data": {
      "text/html": [
       "\n",
       "            <div>\n",
       "                <p><b>SparkSession - in-memory</b></p>\n",
       "                \n",
       "        <div>\n",
       "            <p><b>SparkContext</b></p>\n",
       "\n",
       "            <p><a href=\"http://HOME-PC:4040\">Spark UI</a></p>\n",
       "\n",
       "            <dl>\n",
       "              <dt>Version</dt>\n",
       "                <dd><code>v3.2.1</code></dd>\n",
       "              <dt>Master</dt>\n",
       "                <dd><code>local[*]</code></dd>\n",
       "              <dt>AppName</dt>\n",
       "                <dd><code>LAB2</code></dd>\n",
       "            </dl>\n",
       "        </div>\n",
       "        \n",
       "            </div>\n",
       "        "
      ],
      "text/plain": [
       "<pyspark.sql.session.SparkSession at 0x208fdf47760>"
      ]
     },
     "execution_count": 3,
     "metadata": {},
     "output_type": "execute_result"
    }
   ],
   "source": [
    "spark = SparkSession.builder.appName(\"LAB2\").master(\"local[*]\").getOrCreate()\n",
    "spark"
   ]
  },
  {
   "cell_type": "markdown",
   "metadata": {},
   "source": [
    "Читаем `posts_sample.xml` и изучаем DataFrame"
   ]
  },
  {
   "cell_type": "code",
   "execution_count": 4,
   "metadata": {},
   "outputs": [],
   "source": [
    "posts_sample = pd.read_xml(\"data\\posts_sample.xml\")"
   ]
  },
  {
   "cell_type": "code",
   "execution_count": 7,
   "metadata": {},
   "outputs": [
    {
     "name": "stdout",
     "output_type": "stream",
     "text": [
      "<class 'pandas.core.frame.DataFrame'>\n",
      "RangeIndex: 46006 entries, 0 to 46005\n",
      "Data columns (total 21 columns):\n",
      " #   Column                 Non-Null Count  Dtype  \n",
      "---  ------                 --------------  -----  \n",
      " 0   Id                     46006 non-null  int64  \n",
      " 1   PostTypeId             46006 non-null  int64  \n",
      " 2   AcceptedAnswerId       9510 non-null   float64\n",
      " 3   CreationDate           46006 non-null  object \n",
      " 4   Score                  46006 non-null  int64  \n",
      " 5   ViewCount              18055 non-null  float64\n",
      " 6   Body                   45988 non-null  object \n",
      " 7   OwnerUserId            45459 non-null  float64\n",
      " 8   LastEditorUserId       18283 non-null  float64\n",
      " 9   LastEditorDisplayName  306 non-null    object \n",
      " 10  LastEditDate           18461 non-null  object \n",
      " 11  LastActivityDate       46006 non-null  object \n",
      " 12  Title                  18055 non-null  object \n",
      " 13  Tags                   18055 non-null  object \n",
      " 14  AnswerCount            18055 non-null  float64\n",
      " 15  CommentCount           46006 non-null  int64  \n",
      " 16  FavoriteCount          4114 non-null   float64\n",
      " 17  CommunityOwnedDate     126 non-null    object \n",
      " 18  ParentId               27863 non-null  float64\n",
      " 19  OwnerDisplayName       1041 non-null   object \n",
      " 20  ClosedDate             798 non-null    object \n",
      "dtypes: float64(7), int64(4), object(10)\n",
      "memory usage: 7.4+ MB\n"
     ]
    }
   ],
   "source": [
    "posts_sample.info()"
   ]
  },
  {
   "cell_type": "code",
   "execution_count": 131,
   "metadata": {},
   "outputs": [
    {
     "data": {
      "text/html": [
       "<div>\n",
       "<style scoped>\n",
       "    .dataframe tbody tr th:only-of-type {\n",
       "        vertical-align: middle;\n",
       "    }\n",
       "\n",
       "    .dataframe tbody tr th {\n",
       "        vertical-align: top;\n",
       "    }\n",
       "\n",
       "    .dataframe thead th {\n",
       "        text-align: right;\n",
       "    }\n",
       "</style>\n",
       "<table border=\"1\" class=\"dataframe\">\n",
       "  <thead>\n",
       "    <tr style=\"text-align: right;\">\n",
       "      <th></th>\n",
       "      <th>Id</th>\n",
       "      <th>PostTypeId</th>\n",
       "      <th>AcceptedAnswerId</th>\n",
       "      <th>CreationDate</th>\n",
       "      <th>Score</th>\n",
       "      <th>ViewCount</th>\n",
       "      <th>Body</th>\n",
       "      <th>OwnerUserId</th>\n",
       "      <th>LastEditorUserId</th>\n",
       "      <th>LastEditorDisplayName</th>\n",
       "      <th>...</th>\n",
       "      <th>LastActivityDate</th>\n",
       "      <th>Title</th>\n",
       "      <th>Tags</th>\n",
       "      <th>AnswerCount</th>\n",
       "      <th>CommentCount</th>\n",
       "      <th>FavoriteCount</th>\n",
       "      <th>CommunityOwnedDate</th>\n",
       "      <th>ParentId</th>\n",
       "      <th>OwnerDisplayName</th>\n",
       "      <th>ClosedDate</th>\n",
       "    </tr>\n",
       "  </thead>\n",
       "  <tbody>\n",
       "    <tr>\n",
       "      <th>0</th>\n",
       "      <td>4</td>\n",
       "      <td>1</td>\n",
       "      <td>7.0</td>\n",
       "      <td>2008-07-31T21:42:52.667</td>\n",
       "      <td>630</td>\n",
       "      <td>42817.0</td>\n",
       "      <td>&lt;p&gt;I want to use a track-bar to change a form'...</td>\n",
       "      <td>8.0</td>\n",
       "      <td>3641067.0</td>\n",
       "      <td>Rich B</td>\n",
       "      <td>...</td>\n",
       "      <td>2019-07-19T01:39:54.173</td>\n",
       "      <td>Convert Decimal to Double?</td>\n",
       "      <td>&lt;c#&gt;&lt;floating-point&gt;&lt;type-conversion&gt;&lt;double&gt;&lt;...</td>\n",
       "      <td>13.0</td>\n",
       "      <td>2</td>\n",
       "      <td>48.0</td>\n",
       "      <td>2012-10-31T16:42:47.213</td>\n",
       "      <td>NaN</td>\n",
       "      <td>None</td>\n",
       "      <td>None</td>\n",
       "    </tr>\n",
       "    <tr>\n",
       "      <th>1</th>\n",
       "      <td>6</td>\n",
       "      <td>1</td>\n",
       "      <td>31.0</td>\n",
       "      <td>2008-07-31T22:08:08.620</td>\n",
       "      <td>281</td>\n",
       "      <td>18214.0</td>\n",
       "      <td>&lt;p&gt;I have an absolutely positioned &lt;code&gt;div&lt;/...</td>\n",
       "      <td>9.0</td>\n",
       "      <td>3641067.0</td>\n",
       "      <td>Rich B</td>\n",
       "      <td>...</td>\n",
       "      <td>2019-07-19T01:43:04.077</td>\n",
       "      <td>Percentage width child element in absolutely p...</td>\n",
       "      <td>&lt;html&gt;&lt;css&gt;&lt;internet-explorer-7&gt;</td>\n",
       "      <td>6.0</td>\n",
       "      <td>0</td>\n",
       "      <td>10.0</td>\n",
       "      <td>None</td>\n",
       "      <td>NaN</td>\n",
       "      <td>None</td>\n",
       "      <td>None</td>\n",
       "    </tr>\n",
       "  </tbody>\n",
       "</table>\n",
       "<p>2 rows × 21 columns</p>\n",
       "</div>"
      ],
      "text/plain": [
       "   Id  PostTypeId  AcceptedAnswerId             CreationDate  Score  \\\n",
       "0   4           1               7.0  2008-07-31T21:42:52.667    630   \n",
       "1   6           1              31.0  2008-07-31T22:08:08.620    281   \n",
       "\n",
       "   ViewCount                                               Body  OwnerUserId  \\\n",
       "0    42817.0  <p>I want to use a track-bar to change a form'...          8.0   \n",
       "1    18214.0  <p>I have an absolutely positioned <code>div</...          9.0   \n",
       "\n",
       "   LastEditorUserId LastEditorDisplayName  ...         LastActivityDate  \\\n",
       "0         3641067.0                Rich B  ...  2019-07-19T01:39:54.173   \n",
       "1         3641067.0                Rich B  ...  2019-07-19T01:43:04.077   \n",
       "\n",
       "                                               Title  \\\n",
       "0                         Convert Decimal to Double?   \n",
       "1  Percentage width child element in absolutely p...   \n",
       "\n",
       "                                                Tags AnswerCount  \\\n",
       "0  <c#><floating-point><type-conversion><double><...        13.0   \n",
       "1                   <html><css><internet-explorer-7>         6.0   \n",
       "\n",
       "   CommentCount  FavoriteCount       CommunityOwnedDate ParentId  \\\n",
       "0             2           48.0  2012-10-31T16:42:47.213      NaN   \n",
       "1             0           10.0                     None      NaN   \n",
       "\n",
       "   OwnerDisplayName ClosedDate  \n",
       "0              None       None  \n",
       "1              None       None  \n",
       "\n",
       "[2 rows x 21 columns]"
      ]
     },
     "execution_count": 131,
     "metadata": {},
     "output_type": "execute_result"
    }
   ],
   "source": [
    "posts_sample.head(2)"
   ]
  },
  {
   "cell_type": "markdown",
   "metadata": {},
   "source": [
    "Оставим только интересующие нас столбцы в DataFrame"
   ]
  },
  {
   "cell_type": "code",
   "execution_count": 132,
   "metadata": {},
   "outputs": [],
   "source": [
    "sorted_ps = posts_sample[['CreationDate', 'Tags']]"
   ]
  },
  {
   "cell_type": "markdown",
   "metadata": {},
   "source": [
    "Мы видим, что в dataframe есть множество постов без тэгов о используемых ЯП. Они нам не нужны. Удалим эти строки."
   ]
  },
  {
   "cell_type": "code",
   "execution_count": 133,
   "metadata": {},
   "outputs": [],
   "source": [
    "sorted_ps = sorted_ps.dropna()"
   ]
  },
  {
   "cell_type": "markdown",
   "metadata": {},
   "source": [
    "Читаем и изучаем `programming-languages.csv`. Так как в нем есть `header` сразу уберем его. "
   ]
  },
  {
   "cell_type": "code",
   "execution_count": 134,
   "metadata": {},
   "outputs": [],
   "source": [
    "languages_name = spark.read.format('csv').option('header', 'true').load(\"data\\programming-languages.csv\")"
   ]
  },
  {
   "cell_type": "code",
   "execution_count": 135,
   "metadata": {},
   "outputs": [
    {
     "data": {
      "text/plain": [
       "[Row(name='A# .NET', wikipedia_url='https://en.wikipedia.org/wiki/A_Sharp_(.NET)'),\n",
       " Row(name='A# (Axiom)', wikipedia_url='https://en.wikipedia.org/wiki/A_Sharp_(Axiom)'),\n",
       " Row(name='A-0 System', wikipedia_url='https://en.wikipedia.org/wiki/A-0_System'),\n",
       " Row(name='A+', wikipedia_url='https://en.wikipedia.org/wiki/A%2B_(programming_language)'),\n",
       " Row(name='A++', wikipedia_url='https://en.wikipedia.org/wiki/A%2B%2B')]"
      ]
     },
     "execution_count": 135,
     "metadata": {},
     "output_type": "execute_result"
    }
   ],
   "source": [
    "languages_name.take(5)"
   ]
  },
  {
   "cell_type": "markdown",
   "metadata": {},
   "source": [
    "Нам нужны только имена языков программирования."
   ]
  },
  {
   "cell_type": "code",
   "execution_count": 136,
   "metadata": {},
   "outputs": [],
   "source": [
    "pllist = []\n",
    "for a in languages_name.collect():\n",
    "    pllist.append(str(a[0]))"
   ]
  },
  {
   "cell_type": "code",
   "execution_count": 137,
   "metadata": {},
   "outputs": [
    {
     "name": "stdout",
     "output_type": "stream",
     "text": [
      "700\n"
     ]
    },
    {
     "data": {
      "text/plain": [
       "['A# .NET',\n",
       " 'A# (Axiom)',\n",
       " 'A-0 System',\n",
       " 'A+',\n",
       " 'A++',\n",
       " 'ABAP',\n",
       " 'ABC',\n",
       " 'ABC ALGOL',\n",
       " 'ABSET',\n",
       " 'ABSYS']"
      ]
     },
     "execution_count": 137,
     "metadata": {},
     "output_type": "execute_result"
    }
   ],
   "source": [
    "print (len(pllist))\n",
    "pllist[0:10]"
   ]
  },
  {
   "cell_type": "markdown",
   "metadata": {},
   "source": [
    "Так как в `posts_sample` языки изображены в виде нижних регистров посреди знаков `< >`, то приведем наш список к такому же виду."
   ]
  },
  {
   "cell_type": "code",
   "execution_count": 126,
   "metadata": {},
   "outputs": [],
   "source": [
    "for c in range (len(pllist)):\n",
    "    pllist[c] = f'<{pllist[c].lower()}>'"
   ]
  },
  {
   "cell_type": "code",
   "execution_count": 158,
   "metadata": {},
   "outputs": [],
   "source": [
    "years = []\n",
    "for i in range (2010, 2020):\n",
    "    years.append(i)"
   ]
  },
  {
   "cell_type": "code",
   "execution_count": 159,
   "metadata": {},
   "outputs": [],
   "source": [
    "result = []\n",
    "for year in years:\n",
    "    year_res = []\n",
    "    for x in range(len(pllist)):\n",
    "        year_res.append([])\n",
    "    for p in range(len(sorted_ps)):\n",
    "        date = sorted_ps.iloc[p]['CreationDate']\n",
    "        if str(year) in date:\n",
    "            for c in range(len(pllist)):\n",
    "                tag = sorted_ps.iloc[p]['Tags']\n",
    "                if pllist[c] in tag:\n",
    "                    year_res[c].append(1)\n",
    "    result.append(year_res)"
   ]
  },
  {
   "cell_type": "code",
   "execution_count": 162,
   "metadata": {},
   "outputs": [
    {
     "name": "stdout",
     "output_type": "stream",
     "text": [
      "1\n",
      "2\n",
      "103\n",
      "1\n",
      "20\n"
     ]
    }
   ],
   "source": [
    "for lang in result[0]:\n",
    "    if sum(lang) != 0:\n",
    "        print(sum(lang))"
   ]
  },
  {
   "cell_type": "code",
   "execution_count": 144,
   "metadata": {},
   "outputs": [
    {
     "data": {
      "text/plain": [
       "[]"
      ]
     },
     "execution_count": 144,
     "metadata": {},
     "output_type": "execute_result"
    }
   ],
   "source": [
    "result"
   ]
  }
 ],
 "metadata": {
  "interpreter": {
   "hash": "5d00fe9463615c7d2f04bd21cf4d3dd7cfe8c073f4fa7f37537a4dba5ea0ea78"
  },
  "kernelspec": {
   "display_name": "Python 3.9.4 64-bit",
   "language": "python",
   "name": "python3"
  },
  "language_info": {
   "codemirror_mode": {
    "name": "ipython",
    "version": 3
   },
   "file_extension": ".py",
   "mimetype": "text/x-python",
   "name": "python",
   "nbconvert_exporter": "python",
   "pygments_lexer": "ipython3",
   "version": "3.9.4"
  },
  "orig_nbformat": 4
 },
 "nbformat": 4,
 "nbformat_minor": 2
}
