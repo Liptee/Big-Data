{
 "cells": [
  {
   "cell_type": "code",
   "execution_count": 1,
   "metadata": {},
   "outputs": [],
   "source": [
    "import logging\n",
    "import threading\n",
    "from multiprocessing import Process\n",
    "from time import sleep, time\n",
    "import numpy as np\n",
    "from kazoo.client import KazooClient\n",
    "from kazoo.protocol.paths import join"
   ]
  },
  {
   "cell_type": "code",
   "execution_count": 2,
   "metadata": {},
   "outputs": [],
   "source": [
    "zk = KazooClient()\n",
    "zk.start()\n",
    "zk.stop()"
   ]
  },
  {
   "cell_type": "code",
   "execution_count": 3,
   "metadata": {},
   "outputs": [],
   "source": [
    "class Participant(Process):\n",
    "    \n",
    "    def __init__(self, root: str, _id: int):\n",
    "        \n",
    "        super().__init__()\n",
    "        self.url = f'{root}/{_id}'\n",
    "        self.root = root\n",
    "        self.id = _id\n",
    "\n",
    "    \n",
    "        zk = KazooClient()\n",
    "        zk.start()\n",
    "        \n",
    "        val = np.random.random()\n",
    "        if val > 0.5:\n",
    "            value = b'commit' \n",
    "        else:\n",
    "            value = b'abort'\n",
    "        \n",
    "        print(f'Participant {self.id} request {value.decode()}')\n",
    "        \n",
    "        zk.create(self.url, value, ephemeral=True)\n",
    "        \n",
    "        @zk.DataWatch(self.url)\n",
    "        def watch_myself(data, stat):\n",
    "            if stat.version != 0:\n",
    "                print(f'Participant {self.id} do {data.decode()}')\n",
    "\n",
    "        sleep(5)\n",
    "        zk.stop()\n",
    "        zk.close()"
   ]
  },
  {
   "cell_type": "code",
   "execution_count": 4,
   "metadata": {},
   "outputs": [],
   "source": [
    "class Transaction_Coordinator():\n",
    "    def main(self):\n",
    "        coordinator = KazooClient()\n",
    "        coordinator.start()\n",
    "\n",
    "        if coordinator.exists('/data'):\n",
    "            coordinator.delete('/data', recursive=True)\n",
    "\n",
    "        coordinator.create('/data')\n",
    "        coordinator.create('/data/tc')\n",
    "\n",
    "        num = 5\n",
    "        N = 30\n",
    "        self.timer = None\n",
    "\n",
    "        def check_participants():\n",
    "            participants = coordinator.get_children('/data/tc')\n",
    "            commit_count = 0\n",
    "            abort_count = 0\n",
    "                       \n",
    "            for participant in participants:\n",
    "                commit_counter += int(coordinator.get(f'/data/tc/{participant}')[0] == b'commit')\n",
    "                abort_counter += int(coordinator.get(f'/data/tc/{participant}')[0] == b'abort')\n",
    "\n",
    "            if commit_count > abort_count:\n",
    "                target = b'commit' \n",
    "            else:\n",
    "                target = b'abort'\n",
    "            \n",
    "            for participant in participants:\n",
    "                coordinator.set(f'/data/tc/{participant}', target)\n",
    "\n",
    "        @coordinator.ChildrenWatch('/data/tc')\n",
    "        def watch_participants(participants):\n",
    "            if len(participants) == 0:\n",
    "                if self.timer is not None:\n",
    "                    self.timer.cancel()\n",
    "                    \n",
    "            else:\n",
    "                if self.timer is not None:\n",
    "                    self.timer.cancel()\n",
    "\n",
    "                timer = threading.Timer(N, check_participants)\n",
    "                timer.daemon = True\n",
    "                timer.start()\n",
    "                \n",
    "\n",
    "            if len(participants) < num:\n",
    "                print('waiting...')\n",
    "                            \n",
    "            elif len(participants) == num:\n",
    "                print('check')\n",
    "                timer.cancel()\n",
    "                check_participants()\n",
    "                print(len(participants))\n",
    "                \n",
    "\n",
    "        root = '/data/tc'\n",
    "        for i in range(5):\n",
    "            p = Participant(root, i)\n",
    "            p.start()"
   ]
  },
  {
   "cell_type": "code",
   "execution_count": 5,
   "metadata": {},
   "outputs": [
    {
     "name": "stdout",
     "output_type": "stream",
     "text": [
      "waiting...\n",
      "Participant 0 request commit\n",
      "waiting...\n",
      "waiting...\n",
      "Participant 1 request abort\n",
      "waiting...\n",
      "waiting...\n",
      "Participant 2 request commit\n",
      "waiting...\n",
      "waiting...\n",
      "Participant 3 request commit\n",
      "waiting...\n",
      "waiting...\n",
      "Participant 4 request commit\n",
      "waiting...\n",
      "waiting...\n"
     ]
    }
   ],
   "source": [
    "Transaction_Coordinator().main()"
   ]
  }
 ],
 "metadata": {
  "interpreter": {
   "hash": "5d00fe9463615c7d2f04bd21cf4d3dd7cfe8c073f4fa7f37537a4dba5ea0ea78"
  },
  "kernelspec": {
   "display_name": "Python 3.9.4 64-bit",
   "language": "python",
   "name": "python3"
  },
  "language_info": {
   "codemirror_mode": {
    "name": "ipython",
    "version": 3
   },
   "file_extension": ".py",
   "mimetype": "text/x-python",
   "name": "python",
   "nbconvert_exporter": "python",
   "pygments_lexer": "ipython3",
   "version": "3.9.4"
  },
  "orig_nbformat": 4
 },
 "nbformat": 4,
 "nbformat_minor": 2
}
